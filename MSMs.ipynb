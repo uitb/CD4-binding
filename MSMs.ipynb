{
 "cells": [
  {
   "cell_type": "code",
   "execution_count": 1,
   "metadata": {
    "ExecuteTime": {
     "end_time": "2018-11-18T03:47:26.966808Z",
     "start_time": "2018-11-18T03:47:25.342819Z"
    }
   },
   "outputs": [
    {
     "name": "stdout",
     "output_type": "stream",
     "text": [
      "Populating the interactive namespace from numpy and matplotlib\n"
     ]
    }
   ],
   "source": [
    "%pylab inline\n",
    "import pyemma.coordinates as coor\n",
    "import pyemma.msm as msm\n",
    "import pyemma.plots as mplt\n",
    "import pandas as pd\n",
    "import mdtraj as md\n",
    "import scipy as sp\n",
    "from mpl_toolkits.mplot3d import Axes3D"
   ]
  },
  {
   "cell_type": "markdown",
   "metadata": {
    "heading_collapsed": true
   },
   "source": [
    "# coordinates"
   ]
  },
  {
   "cell_type": "code",
   "execution_count": 2,
   "metadata": {
    "ExecuteTime": {
     "end_time": "2018-11-18T03:47:27.948032Z",
     "start_time": "2018-11-18T03:47:27.840427Z"
    },
    "hidden": true
   },
   "outputs": [],
   "source": [
    "liganded_topfile = 'data/liganded_ca.pdb'\n",
    "complex_topfile = 'data/complex_ca.pdb'\n",
    "liganded_top = md.load(liganded_topfile)\n",
    "complex_top = md.load(complex_topfile)\n",
    "from glob import glob\n",
    "liganded_list = glob('data/liganded/ca*.xtc')\n",
    "complex_list = ['data/complex100/ca{}.xtc'.format(i) for i in range(2,12)]"
   ]
  },
  {
   "cell_type": "code",
   "execution_count": 3,
   "metadata": {
    "ExecuteTime": {
     "end_time": "2018-11-18T03:47:30.013371Z",
     "start_time": "2018-11-18T03:47:29.998408Z"
    },
    "hidden": true
   },
   "outputs": [],
   "source": [
    "v1_2 = range(99,153)#top.topology.select('resi 99 to 152 and name CA')\n",
    "b_sheet = list(range(89,92))+list(range(168,171))+list(range(385,387))+list(range(394,396))\n",
    "#top.topology.select('resi 89 to 92 or resi 168 to 171 or resi 385 to 387 or resi 394 to 396 and name CA')\n",
    "a1 = range(69,85)#top.topology.select('resi 69 to 85 and name CA')\n",
    "v3 = range(265,294)#top.topology.select('resi 265 to 294 and name CA')"
   ]
  },
  {
   "cell_type": "code",
   "execution_count": 4,
   "metadata": {
    "ExecuteTime": {
     "end_time": "2018-11-18T03:47:31.651977Z",
     "start_time": "2018-11-18T03:47:31.643317Z"
    },
    "code_folding": [
     0
    ],
    "hidden": true
   },
   "outputs": [],
   "source": [
    "def compute_center_of_mass(traj,atom_indices=None):\n",
    "    if atom_indices==None:\n",
    "        atoms = traj.top.atoms\n",
    "        coords = traj.xyz\n",
    "    else:\n",
    "        atoms = [traj.top.atom(i) for i in atom_indices]\n",
    "        coords = np.take(traj.xyz, atom_indices, axis=1)\n",
    "    com = np.zeros((traj.n_frames, 3))\n",
    "    masses = np.array([a.element.mass for a in atoms])\n",
    "    masses /= masses.sum()\n",
    "    for i, x in enumerate(coords):\n",
    "        com[i, :] = x.astype('float64').T.dot(masses)\n",
    "    return com"
   ]
  },
  {
   "cell_type": "markdown",
   "metadata": {
    "heading_collapsed": true
   },
   "source": [
    "# features"
   ]
  },
  {
   "cell_type": "code",
   "execution_count": null,
   "metadata": {
    "ExecuteTime": {
     "end_time": "2018-11-18T03:44:33.708310Z",
     "start_time": "2018-11-18T03:44:33.681147Z"
    },
    "code_folding": [
     0
    ],
    "hidden": true
   },
   "outputs": [],
   "source": [
    "def plot_angle(traj_files,top,ax,atom_indices1,atom_indices2,atom_indices3,name='',lw=None,color=None,alpha=0.5,ann=None):\n",
    "    from MDAnalysis.lib.distances import calc_angles\n",
    "    angles_list = []\n",
    "    if lw==None:\n",
    "        lw = [1] * len(traj_files)\n",
    "    elif isinstance(lw,(float,int)):\n",
    "        lw = [lw] * len(traj_files)\n",
    "    elif isinstance(lw,list) and len(lw) == len(traj_files):\n",
    "        pass\n",
    "    else:\n",
    "        raise ValueError\n",
    "    for i,f in enumerate(traj_files):\n",
    "        traj = md.load(f,top=top)\n",
    "        traj.superpose(top)\n",
    "        coords1 = compute_center_of_mass(traj,atom_indices1).astype(np.float32)\n",
    "        coords2 = compute_center_of_mass(traj,atom_indices2).astype(np.float32)\n",
    "        coords3 = compute_center_of_mass(traj,atom_indices3).astype(np.float32)     \n",
    "        angles = calc_angles(coords1,coords2,coords3)\n",
    "        angles_list.append(angles)\n",
    "        ax.plot(angles,label='{}{}'.format(name,i),lw=lw[i],alpha=alpha,color=color)\n",
    "        if ann and i in ann[0]:\n",
    "            ann_index = ann[0].index(i)\n",
    "            x = ann[1][ann_index]\n",
    "            y = angles[x]\n",
    "            ann_label = ann[2][ann_index]     \n",
    "            ax.annotate(s=ann_label,xy=(x,y),arrowprops={'arrowstyle':'->'},fontsize=24,color='black')\n",
    "    return angles_list"
   ]
  },
  {
   "cell_type": "code",
   "execution_count": null,
   "metadata": {
    "ExecuteTime": {
     "end_time": "2018-11-18T03:44:34.764188Z",
     "start_time": "2018-11-18T03:44:34.751865Z"
    },
    "code_folding": [
     0
    ],
    "hidden": true
   },
   "outputs": [],
   "source": [
    "def plot_distance(traj_files,top,ax,atom_indices1,atom_indices2,name='',lw=None,color=None,alpha=0.5,ann = None):\n",
    "    distance_list = []\n",
    "    from MDAnalysis.lib.distances import calc_bonds\n",
    "    if lw==None:\n",
    "        lw = [1] * len(traj_files)\n",
    "    elif isinstance(lw,(int,float)):\n",
    "        lw = [lw] * len(traj_files)\n",
    "    elif isinstance(lw,list) and len(lw) == len(traj_files):\n",
    "        pass\n",
    "    else:\n",
    "        raise ValueError   \n",
    "    for i,f in enumerate(traj_files):\n",
    "        traj = md.load(f,top=top)  \n",
    "        traj.superpose(top)\n",
    "        coords1 = compute_center_of_mass(traj,atom_indices1).astype(np.float32)\n",
    "        coords2 = compute_center_of_mass(traj,atom_indices2).astype(np.float32)\n",
    "        distance = calc_bonds(coords1,coords2)\n",
    "        distance_list.append(distance)\n",
    "        ax.plot(distance,label='{}{}'.format(name,i),lw=lw[i],alpha=alpha,color=color)\n",
    "        if ann and i in ann[0]:\n",
    "            ann_index = ann[0].index(i)\n",
    "            x = ann[1][ann_index]\n",
    "            y = distance[x]\n",
    "            ann_label = ann[2][ann_index]\n",
    "            ax.annotate(s=ann_label,xy=(x,y),arrowprops={'arrowstyle':'->'},fontsize=24,color='black')\n",
    "    return distance_list"
   ]
  },
  {
   "cell_type": "code",
   "execution_count": null,
   "metadata": {
    "ExecuteTime": {
     "end_time": "2018-11-18T03:44:35.968020Z",
     "start_time": "2018-11-18T03:44:35.962469Z"
    },
    "code_folding": [
     0
    ],
    "hidden": true
   },
   "outputs": [],
   "source": [
    "def plot_RMSD(traj_files,top,ax,name=''):\n",
    "    rmsd_list = []\n",
    "    for i,f in enumerate(traj_files):\n",
    "        traj = md.load(f,top=top)\n",
    "        rmsd = md.rmsd(traj.superpose(reference=top),reference=top)\n",
    "        rmsd_list.append(rmsd)\n",
    "        #ax.plot(rmsd,label='{}{}'.format(name,i),lw=1,alpha=0.5)\n",
    "    return rmsd_list"
   ]
  },
  {
   "cell_type": "code",
   "execution_count": null,
   "metadata": {
    "ExecuteTime": {
     "end_time": "2018-11-18T02:45:34.896082Z",
     "start_time": "2018-11-18T02:45:24.767271Z"
    },
    "hidden": true,
    "scrolled": true
   },
   "outputs": [],
   "source": [
    "figure(figsize=(15,4))\n",
    "gs = GridSpec(1,5)\n",
    "subplot(gs[0,:4])\n",
    "ax = gca()\n",
    "angles_all = plot_angle(liganded_list,liganded_top,ax,v1_2,b_sheet,a1,alpha=0.5,color='b',lw=0.4)\n",
    "angles_all += plot_angle(complex_list,complex_top,ax,v1_2,b_sheet,a1,alpha=0.5,color='g',lw=0.4)\n",
    "lines = ax.get_lines()\n",
    "ax.legend((lines[0],lines[12]),('$apo$','CD4-bound'),fontsize=12,loc=1,ncol=2,markerscale=10)\n",
    "xlim(0,10000)\n",
    "xticks(range(0,10001,2000),range(0,101,20),fontsize=12)\n",
    "ylim(0.8,3.2)\n",
    "yticks(arange(1,3.2,0.5),fontsize=12)\n",
    "xlabel('Time (ns)',fontsize=14)\n",
    "ylabel('V1/V2-α1 angle (rad)',fontsize=14)\n",
    "subplot(gs[0,4])\n",
    "data = [np.array(angles_all).flatten(),np.array(angles_all[:10]).flatten(),np.array(angles_all[10:]).flatten()]\n",
    "h1 = hist(data,range=(0.8,3.2),bins=500,color=['gray','b','g'],label='angle',histtype='stepfilled',alpha=0.5,orientation='horizontal')\n",
    "ylim(0.8,3.2)\n",
    "xticks([])\n",
    "yticks([])\n",
    "\n",
    "subplots_adjust(wspace =0.01)\n",
    "#savefig('fig2-1.png', format='png',dpi=720,bbox_inches=\"tight\")"
   ]
  },
  {
   "cell_type": "code",
   "execution_count": null,
   "metadata": {
    "ExecuteTime": {
     "end_time": "2018-11-15T09:05:17.936059Z",
     "start_time": "2018-11-15T09:04:34.884014Z"
    },
    "hidden": true
   },
   "outputs": [],
   "source": [
    "figure(figsize=(15,4))\n",
    "gs = GridSpec(1,5)\n",
    "subplot(gs[0,:4])\n",
    "ax = gca()\n",
    "distance_all = plot_distance(liganded_list,liganded_top,ax,b_sheet,v3,alpha=0.6,lw=0.4,color='b')\n",
    "distance_all += plot_distance(complex_list,complex_top,ax,b_sheet,v3,alpha=0.6,lw=0.4,color='g')\n",
    "lines = ax.get_lines()\n",
    "ax.legend((lines[4],lines[15]),('$apo$','CD4-bound'),fontsize=12,loc=1,ncol=2,markerscale=10)\n",
    "xlim(0,10000)\n",
    "xticks(range(0,10001,2000),range(0,101,20),fontsize=12)\n",
    "ylim(1.3,3.5)\n",
    "yticks(arange(1.5,3.5,0.5),fontsize=12)\n",
    "xlabel('Time (ns)',fontsize=14)\n",
    "ylabel('V3-bridging distance (nm)',fontsize=14)\n",
    "subplot(gs[0,4])\n",
    "data = [np.array(distance_all).flatten(),np.array(distance_all[:10]).flatten(),np.array(distance_all[10:]).flatten()]\n",
    "h2 = hist(data,range=(1.3,3.5),bins=500,color=['gray','b','g'],label='distance',histtype='stepfilled',alpha=0.5,orientation='horizontal')\n",
    "ylim(1.3,3.5)\n",
    "ax = gca()\n",
    "ax.set_xticks([])\n",
    "ax.set_yticks([])\n",
    "subplots_adjust(wspace =0.01)\n",
    "savefig('fig2-2.png', format='png',dpi=720,bbox_inches=\"tight\")"
   ]
  },
  {
   "cell_type": "code",
   "execution_count": null,
   "metadata": {
    "ExecuteTime": {
     "end_time": "2018-11-18T03:44:39.418709Z",
     "start_time": "2018-11-18T03:44:39.409274Z"
    },
    "code_folding": [],
    "hidden": true
   },
   "outputs": [],
   "source": [
    "def neartest_to_mass_center(top,indices=None):\n",
    "    coords_mass_center = compute_center_of_mass(top,indices).astype(np.float32)[0]\n",
    "    atoms_coords = np.take(top.xyz, indices, axis=1)[0]\n",
    "    distance = np.linalg.norm(atoms_coords - coords_mass_center,axis=1)\n",
    "    index = np.where(distance==np.min(distance))\n",
    "    return index[0][0]"
   ]
  },
  {
   "cell_type": "code",
   "execution_count": null,
   "metadata": {
    "ExecuteTime": {
     "end_time": "2018-11-18T03:44:41.929641Z",
     "start_time": "2018-11-18T03:44:41.923852Z"
    },
    "code_folding": [],
    "hidden": true
   },
   "outputs": [],
   "source": [
    "def computer_vector(traj_list,top,indices1=None,indices2=None):\n",
    "    for t in traj_list:\n",
    "        traj = md.load(t,top=top)\n",
    "        traj.superpose(reference=top)\n",
    "        try:\n",
    "            vector = np.concatenate((vector,compute_center_of_mass(traj,indices2) - compute_center_of_mass(traj,indices1)))\n",
    "        except:\n",
    "            vector = compute_center_of_mass(traj,indices2) - compute_center_of_mass(traj,indices1)\n",
    "\n",
    "    return vector"
   ]
  },
  {
   "cell_type": "code",
   "execution_count": null,
   "metadata": {
    "ExecuteTime": {
     "end_time": "2018-11-18T03:45:00.096204Z",
     "start_time": "2018-11-18T03:44:43.425711Z"
    },
    "hidden": true
   },
   "outputs": [],
   "source": [
    "v = computer_vector(liganded_list,liganded_top,indices1=b_sheet,indices2=[279])\n",
    "v = np.concatenate((v,computer_vector(complex_list,liganded_top,indices1=b_sheet,indices2=[279])))"
   ]
  },
  {
   "cell_type": "code",
   "execution_count": null,
   "metadata": {
    "ExecuteTime": {
     "end_time": "2018-11-18T02:46:43.680096Z",
     "start_time": "2018-11-18T02:46:19.314652Z"
    },
    "hidden": true
   },
   "outputs": [],
   "source": [
    "from sklearn.cluster import KMeans\n",
    "ncluster = 17\n",
    "kmeans = KMeans(n_clusters=ncluster, random_state=0).fit(v)\n"
   ]
  },
  {
   "cell_type": "code",
   "execution_count": null,
   "metadata": {
    "ExecuteTime": {
     "end_time": "2018-11-18T02:46:43.943162Z",
     "start_time": "2018-11-18T02:46:43.698089Z"
    },
    "hidden": true
   },
   "outputs": [],
   "source": [
    "v1 = [[] for i in range(ncluster)]\n",
    "for j,i in enumerate(kmeans.labels_):\n",
    "    v1[i].append(v[j])\n",
    "v1 = np.array(v1)"
   ]
  },
  {
   "cell_type": "code",
   "execution_count": null,
   "metadata": {
    "ExecuteTime": {
     "end_time": "2018-11-18T02:49:21.553059Z",
     "start_time": "2018-11-18T02:48:55.772340Z"
    },
    "hidden": true
   },
   "outputs": [],
   "source": [
    "fig = figure(figsize=(8,8))\n",
    "ax = Axes3D(fig)\n",
    "data = v[::200]\n",
    "colors = get_cmap('viridis').colors+get_cmap('inferno').colors+get_cmap('plasma').colors+get_cmap('magma').colors\n",
    "colors = [colors[i*int(len(colors)/30)] for i in range(ncluster)]\n",
    "for i,v_ in enumerate(v1):\n",
    "    data = np.array(v_[::100])\n",
    "    ax.quiver([0]*len(data),[0]*len(data),[0]*len(data),data[:,0],data[:,1],data[:,2],length=0.025,pivot='tip',alpha=.8,lw=1,color=colors[i])\n",
    "ax.xaxis.pane.fill = False\n",
    "ax.yaxis.pane.fill = False\n",
    "ax.zaxis.pane.fill = False\n",
    "ax.set_ylabel('y',fontsize=17)\n",
    "ax.set_xlabel('x',fontsize=17)\n",
    "ax.set_zlabel('z',fontsize=17)\n",
    "ax.grid(b=False)\n",
    "tmp_planes = ax.zaxis._PLANES\n",
    "ax.zaxis._PLANES = ( tmp_planes[2], tmp_planes[3], \n",
    "                     tmp_planes[1], tmp_planes[0], \n",
    "                     tmp_planes[4], tmp_planes[5])\n",
    "tmp_planes = ax.yaxis._PLANES\n",
    "ax.yaxis._PLANES = ( tmp_planes[2], tmp_planes[3], \n",
    "                     tmp_planes[0], tmp_planes[1], \n",
    "                     tmp_planes[4], tmp_planes[5])\n",
    "tmp_planes = ax.xaxis._PLANES\n",
    "ax.xaxis._PLANES = ( tmp_planes[2], tmp_planes[3], \n",
    "                     tmp_planes[0], tmp_planes[1], \n",
    "                     tmp_planes[4], tmp_planes[5])\n",
    "ax.view_init(45,135)\n",
    "savefig('3dvector.png',format='png',dpi=720,bbox_inches=\"tight\")"
   ]
  },
  {
   "cell_type": "code",
   "execution_count": null,
   "metadata": {
    "ExecuteTime": {
     "end_time": "2018-11-15T07:35:13.187632Z",
     "start_time": "2018-11-15T07:35:13.182032Z"
    },
    "code_folding": [
     0
    ],
    "hidden": true
   },
   "outputs": [],
   "source": [
    "def find_x_value(x,y,region):\n",
    "    values = []\n",
    "    for r in region:\n",
    "        x1 = min(r)\n",
    "        x2 = max(r)\n",
    "        ix1 = np.where(x>x1)[0][0]\n",
    "        ix2 = np.where(x<x2)[0][-1]\n",
    "        m_index = np.where(y == np.max(y[ix1:ix2]))\n",
    "        m_x = x[m_index][0]\n",
    "        values.append(m_x)\n",
    "    return values"
   ]
  },
  {
   "cell_type": "code",
   "execution_count": null,
   "metadata": {
    "ExecuteTime": {
     "end_time": "2018-11-15T07:36:59.541599Z",
     "start_time": "2018-11-15T07:36:59.536692Z"
    },
    "hidden": true
   },
   "outputs": [],
   "source": [
    "angle_m = find_x_value(data_x1,data_y1,[(1.5,1.8),(2.0,2.3),(2.2,2.5),(2.5,3.0)])\n",
    "distance_m = find_x_value(data_x2,data_y2,[(1.5,1.8),(1.8,2.0),(2.0,2.25),(2.25,2.5),(2.5,2.8)])"
   ]
  },
  {
   "cell_type": "markdown",
   "metadata": {},
   "source": [
    "# MSM"
   ]
  },
  {
   "cell_type": "code",
   "execution_count": 5,
   "metadata": {
    "ExecuteTime": {
     "end_time": "2018-11-18T03:47:35.115224Z",
     "start_time": "2018-11-18T03:47:35.097691Z"
    },
    "code_folding": [
     0
    ]
   },
   "outputs": [],
   "source": [
    "def compute_angles(traj,atom_indices1,atom_indices2,atom_indices3,cossin=True):\n",
    "    from MDAnalysis.lib.distances import calc_angles\n",
    "    traj.superpose(traj, frame=0)\n",
    "    coords1 = compute_center_of_mass(traj,atom_indices1).astype(np.float32)\n",
    "    coords2 = compute_center_of_mass(traj,atom_indices2).astype(np.float32)\n",
    "    coords3 = compute_center_of_mass(traj,atom_indices3).astype(np.float32)\n",
    "    angles = calc_angles(coords1,coords2,coords3)\n",
    "    #if cossin:\n",
    "        #rad = np.dstack((np.cos(angles), np.sin(angles)))\n",
    "        #rad = rad.reshape(rad.shape[0], rad.shape[1]*rad.shape[2])\n",
    "    #else:\n",
    "        #rad = angles\n",
    "   # print rad\n",
    "    return np.vstack(angles.astype(np.float32))#rad[0].astype(np.float32)"
   ]
  },
  {
   "cell_type": "code",
   "execution_count": 6,
   "metadata": {
    "ExecuteTime": {
     "end_time": "2018-11-18T03:47:36.248719Z",
     "start_time": "2018-11-18T03:47:36.242643Z"
    },
    "code_folding": [
     0
    ]
   },
   "outputs": [],
   "source": [
    "def compute_distance(traj,atom_indices1,atom_indices2):\n",
    "    from MDAnalysis.lib.distances import calc_bonds\n",
    "    traj.superpose(traj, frame=0)\n",
    "    coords1 = compute_center_of_mass(traj,atom_indices1).astype(np.float32)\n",
    "    coords2 = compute_center_of_mass(traj,atom_indices2).astype(np.float32)\n",
    "    distance = calc_bonds(coords1,coords2)\n",
    "    return np.vstack(distance.astype(np.float32))"
   ]
  },
  {
   "cell_type": "code",
   "execution_count": 7,
   "metadata": {
    "ExecuteTime": {
     "end_time": "2018-11-18T03:47:37.290868Z",
     "start_time": "2018-11-18T03:47:37.285558Z"
    },
    "code_folding": []
   },
   "outputs": [],
   "source": [
    "def RMSD(traj,top_file):\n",
    "    traj.superpose(traj, frame=0)\n",
    "    top = md.load(top_file)\n",
    "    rmsd = md.rmsd(traj.superpose(reference=top),reference=top)\n",
    "    return np.vstack(rmsd.astype(np.float32))"
   ]
  },
  {
   "cell_type": "code",
   "execution_count": 8,
   "metadata": {
    "ExecuteTime": {
     "end_time": "2018-11-18T03:47:39.130676Z",
     "start_time": "2018-11-18T03:47:39.124836Z"
    },
    "code_folding": [
     0
    ]
   },
   "outputs": [],
   "source": [
    "def computer_vector_(traj,indices1=None,indices2=None):\n",
    "    traj.superpose(traj, frame=0)\n",
    "    try:\n",
    "        vector = np.concatenate((vector,compute_center_of_mass(traj,indices2) - compute_center_of_mass(traj,indices1)))\n",
    "    except:\n",
    "        vector = compute_center_of_mass(traj,indices2) - compute_center_of_mass(traj,indices1)\n",
    "    return vector.astype(np.float32)"
   ]
  },
  {
   "cell_type": "code",
   "execution_count": 9,
   "metadata": {
    "ExecuteTime": {
     "end_time": "2018-11-18T03:47:40.860466Z",
     "start_time": "2018-11-18T03:47:40.779711Z"
    }
   },
   "outputs": [],
   "source": [
    "feat = coor.featurizer(liganded_topfile)\n",
    "feat.add_custom_func(compute_angles,1,v1_2,b_sheet,a1)\n",
    "#feat.add_custom_func(RMSD,1,liganded_topfile)\n",
    "#feat.add_custom_func(compute_distance,1,b_sheet,v3)\n",
    "feat.add_custom_func(computer_vector_,3,b_sheet,[279])"
   ]
  },
  {
   "cell_type": "code",
   "execution_count": 10,
   "metadata": {
    "ExecuteTime": {
     "end_time": "2018-11-18T03:48:35.635189Z",
     "start_time": "2018-11-18T03:47:44.850549Z"
    }
   },
   "outputs": [
    {
     "name": "stderr",
     "output_type": "stream",
     "text": [
      "100%|██████████| 20/20 [00:00<00:00, 40.86it/s]                     \n",
      "getting output of FeatureReader:   0%|          | 0/20 [00:00<?, ?it/s]/home/denglei/anaconda2/envs/python36/lib/python3.6/site-packages/MDAnalysis/due.py:88: UserWarning: No module named 'duecredit'\n",
      "  warnings.warn(str(err))\n",
      "100%|██████████| 20/20 [00:50<00:00,  2.57s/it]                                 "
     ]
    },
    {
     "name": "stdout",
     "output_type": "stream",
     "text": [
      "number of trajectories =  20\n",
      "trajectory length =  10001\n",
      "trajectory time step =  0.01 ns\n",
      "number of dimension =  4\n"
     ]
    },
    {
     "name": "stderr",
     "output_type": "stream",
     "text": [
      "\n"
     ]
    }
   ],
   "source": [
    "# complex_inp = coor.source(complex_list, complex_feat)\n",
    "# liganded_inp = coor.source(liganded_list, liganded_feat)\n",
    "# inp = coor.combine_sources([complex_inp,liganded_inp])\n",
    "inp = coor.source(liganded_list+complex_list,feat)\n",
    "data = inp.get_output()\n",
    "print('number of trajectories = ',inp.number_of_trajectories())\n",
    "print('trajectory length = ',inp.trajectory_length(0))\n",
    "print('trajectory time step = ',100.0 / (inp.trajectory_length(0)-1),'ns')\n",
    "print('number of dimension = ',inp.dimension())"
   ]
  },
  {
   "cell_type": "code",
   "execution_count": null,
   "metadata": {
    "ExecuteTime": {
     "end_time": "2018-11-18T03:01:08.336036Z",
     "start_time": "2018-11-18T03:01:06.561269Z"
    }
   },
   "outputs": [],
   "source": [
    "figure(figsize=(16,12))\n",
    "subplot(221)\n",
    "ax = gca()\n",
    "mplt.plot_free_energy(np.vstack(data)[:,0], np.vstack(data)[:,3],ax=ax)\n",
    "title('angle-distance')\n",
    "# subplot(222)\n",
    "# ax = gca()\n",
    "# mplt.plot_free_energy(np.vstack(data)[:,2], np.vstack(data)[:,3],ax=ax)\n",
    "# title('angle-RMSD')\n",
    "# subplot(223)\n",
    "# ax = gca()\n",
    "# mplt.plot_free_energy(np.vstack(data)[:,1], np.vstack(data)[:,2],ax=ax)\n",
    "# title('distance-RMSD')"
   ]
  },
  {
   "cell_type": "markdown",
   "metadata": {
    "heading_collapsed": true
   },
   "source": [
    "# TICA"
   ]
  },
  {
   "cell_type": "code",
   "execution_count": null,
   "metadata": {
    "ExecuteTime": {
     "end_time": "2018-11-11T11:15:30.004392Z",
     "start_time": "2018-11-11T11:14:35.502047Z"
    },
    "hidden": true
   },
   "outputs": [],
   "source": [
    "tica_obj = coor.tica(inp, lag=10, kinetic_map=True)\n",
    "print('TICA dimension ', tica_obj.dimension())"
   ]
  },
  {
   "cell_type": "code",
   "execution_count": null,
   "metadata": {
    "ExecuteTime": {
     "end_time": "2018-11-11T11:16:09.766467Z",
     "start_time": "2018-11-11T11:15:30.140694Z"
    },
    "hidden": true,
    "scrolled": true
   },
   "outputs": [],
   "source": [
    "Y = tica_obj.get_output() # get tica coordinates\n",
    "print('number of trajectories = ', np.shape(Y)[0])\n",
    "print('number of frames = ', np.shape(Y)[1])\n",
    "print('number of dimensions = ',np.shape(Y)[2])"
   ]
  },
  {
   "cell_type": "code",
   "execution_count": null,
   "metadata": {
    "ExecuteTime": {
     "end_time": "2018-11-11T11:16:11.152383Z",
     "start_time": "2018-11-11T11:16:09.973557Z"
    },
    "hidden": true
   },
   "outputs": [],
   "source": [
    "mplt.plot_free_energy(np.vstack(Y)[:,0], np.vstack(Y)[:,1])"
   ]
  },
  {
   "cell_type": "code",
   "execution_count": null,
   "metadata": {
    "ExecuteTime": {
     "end_time": "2018-11-11T11:18:42.376891Z",
     "start_time": "2018-11-11T11:18:42.009465Z"
    },
    "hidden": true
   },
   "outputs": [],
   "source": [
    "matplotlib.rcParams.update({'font.size': 14})\n",
    "dt = 0.1\n",
    "figure(figsize(8,5))\n",
    "ax1=plt.subplot(311)\n",
    "x = dt*np.arange(Y[0].shape[0])\n",
    "plot(x, Y[0][:,0]); ylabel('IC 1'); xticks([]); yticks(np.arange(-8, 2, 2))\n",
    "ax1=plt.subplot(312)\n",
    "plot(x, Y[0][:,1]); ylabel('IC 2'); xticks([]);  yticks(np.arange(-6, 2, 2))\n",
    "#ax1=plt.subplot(313)\n",
    "#plot(x, Y[0][:,2]); xlabel('time / ns'); ylabel('IC 3'); yticks(np.arange(-4, 2, 2))\n",
    "#save_figure('ic_trajs.png')"
   ]
  },
  {
   "cell_type": "markdown",
   "metadata": {},
   "source": [
    "# Clustering"
   ]
  },
  {
   "cell_type": "code",
   "execution_count": 11,
   "metadata": {
    "ExecuteTime": {
     "end_time": "2018-11-18T03:57:07.926832Z",
     "start_time": "2018-11-18T03:48:56.205288Z"
    },
    "scrolled": true
   },
   "outputs": [
    {
     "name": "stdout",
     "output_type": "stream",
     "text": [
      "18-11-18 11:48:56 pyemma.coordinates.clustering.kmeans.KmeansClustering[1] INFO     The number of cluster centers was not specified, using min(sqrt(N), 5000)=447 as n_clusters.\n"
     ]
    },
    {
     "name": "stderr",
     "output_type": "stream",
     "text": [
      "initialize kmeans++ centers:   0%|          | 0/447 [00:00<?, ?it/s]\n",
      "100%|██████████| 447/447 [08:04<00:00,  1.08s/it]                             \n",
      "kmeans iterations: 100%|██████████| 10/10 [08:11<00:00, 20.27s/it]  "
     ]
    },
    {
     "name": "stdout",
     "output_type": "stream",
     "text": [
      "18-11-18 11:57:07 pyemma.coordinates.clustering.kmeans.KmeansClustering[1] WARNING  Algorithm did not reach convergence criterion of 1e-05 in 10 iterations. Consider increasing max_iter.\n"
     ]
    },
    {
     "name": "stderr",
     "output_type": "stream",
     "text": [
      "100%|██████████| 10/10 [08:11<00:00, 20.27s/it]                   \n"
     ]
    }
   ],
   "source": [
    "n_clusters = 250\n",
    "clustering = coor.cluster_kmeans(data)"
   ]
  },
  {
   "cell_type": "code",
   "execution_count": 12,
   "metadata": {
    "ExecuteTime": {
     "end_time": "2018-11-18T03:58:48.076487Z",
     "start_time": "2018-11-18T03:58:45.716904Z"
    }
   },
   "outputs": [
    {
     "name": "stderr",
     "output_type": "stream",
     "text": [
      "100%|██████████| 20/20 [00:02<00:00,  8.99it/s]                                    \n"
     ]
    }
   ],
   "source": [
    "dtrajs = clustering.dtrajs"
   ]
  },
  {
   "cell_type": "code",
   "execution_count": null,
   "metadata": {
    "ExecuteTime": {
     "end_time": "2018-11-13T07:18:34.650405Z",
     "start_time": "2018-11-13T07:18:34.640986Z"
    }
   },
   "outputs": [],
   "source": [
    "np.shape(dtrajs)"
   ]
  },
  {
   "cell_type": "code",
   "execution_count": null,
   "metadata": {
    "ExecuteTime": {
     "end_time": "2018-11-15T10:10:57.774966Z",
     "start_time": "2018-11-15T10:10:57.744205Z"
    }
   },
   "outputs": [],
   "source": [
    "mplt.plot_free_energy(np.vstack(Y)[:,0], np.vstack(Y)[:,1])\n",
    "cc_x = clustering.clustercenters[:,0]\n",
    "cc_y = clustering.clustercenters[:,1]\n",
    "plot(cc_x,cc_y, linewidth=0, marker='o', markersize=5, color='black')"
   ]
  },
  {
   "cell_type": "markdown",
   "metadata": {},
   "source": [
    "# Implied timescales"
   ]
  },
  {
   "cell_type": "code",
   "execution_count": 13,
   "metadata": {
    "ExecuteTime": {
     "end_time": "2018-11-18T04:00:50.829484Z",
     "start_time": "2018-11-18T03:58:50.439752Z"
    }
   },
   "outputs": [
    {
     "name": "stderr",
     "output_type": "stream",
     "text": [
      "\r",
      "estimating MaximumLikelihoodMSM:   0%|          | 0/40 [00:00<?, ?it/s]"
     ]
    },
    {
     "name": "stdout",
     "output_type": "stream",
     "text": [
      "18-11-18 11:58:50 pyemma.msm.estimators.maximum_likelihood_msm.MaximumLikelihoodMSM[3] WARNING  Ignored error during estimation: row, column, and data array must all be the same length\n"
     ]
    },
    {
     "name": "stderr",
     "output_type": "stream",
     "text": [
      "100%|██████████| 40/40 [01:59<00:00,  3.43s/it]                                 "
     ]
    },
    {
     "name": "stdout",
     "output_type": "stream",
     "text": [
      "18-11-18 12:00:49 pyemma.msm.estimators.implied_timescales.ImpliedTimescales[4] WARNING  Estimation has failed at lagtimes: [0]. Details:\n",
      "['Error at lag time 0: row, column, and data array must all be the same length']\n"
     ]
    },
    {
     "name": "stderr",
     "output_type": "stream",
     "text": [
      "\n"
     ]
    },
    {
     "name": "stdout",
     "output_type": "stream",
     "text": [
      "18-11-18 12:00:50 pyemma.msm.estimators.implied_timescales.ImpliedTimescales[4] WARNING  Some timescales could not be computed. Timescales array is smaller than expected or contains NaNs\n"
     ]
    }
   ],
   "source": [
    "lags = range(0,200,5)\n",
    "its = msm.timescales_msm(dtrajs, lags=lags, nits=10, errors=None, n_jobs=-1)"
   ]
  },
  {
   "cell_type": "code",
   "execution_count": 14,
   "metadata": {
    "ExecuteTime": {
     "end_time": "2018-11-18T04:01:55.563527Z",
     "start_time": "2018-11-18T04:01:54.234648Z"
    }
   },
   "outputs": [
    {
     "data": {
      "text/plain": [
       "<matplotlib.axes._subplots.AxesSubplot at 0x7fe4088c5208>"
      ]
     },
     "execution_count": 14,
     "metadata": {},
     "output_type": "execute_result"
    },
    {
     "data": {
      "image/png": "[encoded data removed]",
      "text/plain": [
       "<matplotlib.figure.Figure at 0x7fe4088c52b0>"
      ]
     },
     "metadata": {},
     "output_type": "display_data"
    }
   ],
   "source": [
    "figure(figsize=(8,6))\n",
    "ax=gca()\n",
    "mplt.plot_implied_timescales(its, show_mean=False, ylog=True,  units='ns', linewidth=1,dt=0.01,ax=ax)\n",
    "#ylim(0,200)\n",
    "#savefig('its.png', format='png',dpi=720,bbox_inches=\"tight\")"
   ]
  },
  {
   "cell_type": "markdown",
   "metadata": {},
   "source": [
    "# Estimate MSM"
   ]
  },
  {
   "cell_type": "code",
   "execution_count": 15,
   "metadata": {
    "ExecuteTime": {
     "end_time": "2018-11-18T04:02:08.325760Z",
     "start_time": "2018-11-18T04:02:05.592531Z"
    }
   },
   "outputs": [
    {
     "name": "stdout",
     "output_type": "stream",
     "text": [
      "fraction of states used =  1.0\n",
      "fraction of counts used =  1.0\n",
      "447\n"
     ]
    }
   ],
   "source": [
    "msm_lag =100\n",
    "M = msm.estimate_markov_model(dtrajs, msm_lag)\n",
    "print('fraction of states used = ', M.active_state_fraction)\n",
    "print('fraction of counts used = ', M.active_count_fraction)\n",
    "print(M.nstates)"
   ]
  },
  {
   "cell_type": "code",
   "execution_count": 16,
   "metadata": {
    "ExecuteTime": {
     "end_time": "2018-11-18T04:03:16.353808Z",
     "start_time": "2018-11-18T04:02:34.233939Z"
    }
   },
   "outputs": [
    {
     "name": "stderr",
     "output_type": "stream",
     "text": [
      "100%|██████████| 9/9 [00:20<00:00,  2.91s/it]                                 \n"
     ]
    }
   ],
   "source": [
    "ck = M.cktest(4, mlags=10)"
   ]
  },
  {
   "cell_type": "code",
   "execution_count": 22,
   "metadata": {
    "ExecuteTime": {
     "end_time": "2018-11-18T04:06:33.848102Z",
     "start_time": "2018-11-18T04:06:10.021199Z"
    },
    "scrolled": false
   },
   "outputs": [
    {
     "data": {
      "image/png": "[encoded data removed]",
      "text/plain": [
       "<matplotlib.figure.Figure at 0x7fe4065e4668>"
      ]
     },
     "metadata": {},
     "output_type": "display_data"
    }
   ],
   "source": [
    "mplt.plot_cktest(ck, diag=True, figsize=(10,10), layout=(2,2), padding_top=0.05, y01=False, padding_between=0.2, dt=0.01, units='ns')\n",
    "savefig('ck.png', format='png',dpi=720,bbox_inches=\"tight\")"
   ]
  },
  {
   "cell_type": "markdown",
   "metadata": {
    "ExecuteTime": {
     "end_time": "2018-09-20T08:58:34.028439Z",
     "start_time": "2018-09-20T08:58:25.265796Z"
    }
   },
   "source": [
    "# test MSM\n"
   ]
  },
  {
   "cell_type": "code",
   "execution_count": 59,
   "metadata": {
    "ExecuteTime": {
     "end_time": "2018-11-18T04:46:10.094164Z",
     "start_time": "2018-11-18T04:45:44.848354Z"
    },
    "scrolled": true
   },
   "outputs": [
    {
     "name": "stderr",
     "output_type": "stream",
     "text": [
      "100%|██████████| 100/100 [00:14<00:00,  6.87it/s]               \n"
     ]
    }
   ],
   "source": [
    "M = msm.bayesian_markov_model(dtrajs,50)\n",
    "\n"
   ]
  },
  {
   "cell_type": "code",
   "execution_count": 120,
   "metadata": {
    "ExecuteTime": {
     "end_time": "2018-11-18T06:37:59.680607Z",
     "start_time": "2018-11-18T06:37:46.512831Z"
    }
   },
   "outputs": [
    {
     "data": {
      "image/png": "[encoded data removed]",
      "text/plain": [
       "<matplotlib.figure.Figure at 0x7fe405c11710>"
      ]
     },
     "metadata": {},
     "output_type": "display_data"
    }
   ],
   "source": [
    "#ck = M.cktest(5,mlags=10,show_progress=False)\n",
    "mplt.plot_cktest(ck, diag=True, figsize=(7,7), layout=(2,3), padding_top=0.1, y01=False, padding_between=0.6, dt=0.01, units='ns')\n",
    "savefig('ck.png', format='png',dpi=720,bbox_inches=\"tight\")"
   ]
  },
  {
   "cell_type": "code",
   "execution_count": null,
   "metadata": {
    "ExecuteTime": {
     "end_time": "2018-11-15T13:02:23.287489Z",
     "start_time": "2018-11-15T12:59:50.453056Z"
    }
   },
   "outputs": [],
   "source": [
    "nstates = 7\n",
    "lags=200\n",
    "its = msm.timescales_hmsm(dtrajs, nstates, lags=lags, errors='bayes', n_jobs=36,show_progress=False)\n",
    "mplt.plot_implied_timescales(its, show_mean=False, units='ns', dt=0.005, linewidth=1)"
   ]
  },
  {
   "cell_type": "markdown",
   "metadata": {},
   "source": [
    "# Coarse-grained kinetic Model using a Hidden Markov Model"
   ]
  },
  {
   "cell_type": "code",
   "execution_count": 25,
   "metadata": {
    "ExecuteTime": {
     "end_time": "2018-11-18T04:13:30.951833Z",
     "start_time": "2018-11-18T04:13:30.945142Z"
    }
   },
   "outputs": [
    {
     "data": {
      "text/plain": [
       "447"
      ]
     },
     "execution_count": 25,
     "metadata": {},
     "output_type": "execute_result"
    }
   ],
   "source": [
    "M.nstates"
   ]
  },
  {
   "cell_type": "code",
   "execution_count": 60,
   "metadata": {
    "ExecuteTime": {
     "end_time": "2018-11-18T04:47:03.234427Z",
     "start_time": "2018-11-18T04:46:11.396173Z"
    },
    "scrolled": true
   },
   "outputs": [],
   "source": [
    "hmm = M.coarse_grain(5)"
   ]
  },
  {
   "cell_type": "code",
   "execution_count": 61,
   "metadata": {
    "ExecuteTime": {
     "end_time": "2018-11-18T04:47:04.562251Z",
     "start_time": "2018-11-18T04:47:04.556051Z"
    }
   },
   "outputs": [
    {
     "data": {
      "text/plain": [
       "array([ 0.03659393,  0.23948029,  0.06627234,  0.5295001 ,  0.12815333])"
      ]
     },
     "execution_count": 61,
     "metadata": {},
     "output_type": "execute_result"
    }
   ],
   "source": [
    "hmm.stationary_distribution "
   ]
  },
  {
   "cell_type": "code",
   "execution_count": 126,
   "metadata": {
    "ExecuteTime": {
     "end_time": "2018-11-18T06:55:36.485349Z",
     "start_time": "2018-11-18T06:55:36.479692Z"
    }
   },
   "outputs": [
    {
     "name": "stdout",
     "output_type": "stream",
     "text": [
      "Help on function plot_markov_model in module pyemma.plots.networks:\n",
      "\n",
      "plot_markov_model(P, pos=None, state_sizes=None, state_scale=1.0, state_colors='#ff5500', state_labels='auto', minflux=1e-06, arrow_scale=1.0, arrow_curvature=1.0, arrow_labels='weights', arrow_label_format='%2.e', max_width=12, max_height=12, figpadding=0.2, show_frame=False, ax=None, **textkwargs)\n",
      "    Network representation of MSM transition matrix\n",
      "    \n",
      "    This visualization is not optimized for large matrices. It is meant to be\n",
      "    used for the visualization of small models with up to 10-20 states, e.g.\n",
      "    obtained by a HMM coarse-graining. If used with large network, the automatic\n",
      "    node positioning will be very slow and may still look ugly.\n",
      "    \n",
      "    Parameters\n",
      "    ----------\n",
      "    P : ndarray(n,n) or MSM object with attribute 'transition matrix'\n",
      "        Transition matrix or MSM object\n",
      "    pos : ndarray(n,2), optional, default=None\n",
      "        User-defined positions to draw the states on. If not given, will try\n",
      "        to place them automatically.\n",
      "    state_sizes : ndarray(n), optional, default=None\n",
      "        User-defined areas of the discs drawn for each state. If not given,\n",
      "        the stationary probability of P will be used.\n",
      "    state_colors : string, ndarray(n), or list, optional, default='#ff5500' (orange)\n",
      "        string :\n",
      "            a Hex code for a single color used for all states\n",
      "        array :\n",
      "            n values in [0,1] which will result in a grayscale plot\n",
      "        list :\n",
      "            of len = nstates, with a color for each state. The list can mix strings, RGB values and\n",
      "            hex codes, e.g. :py:obj:`state_colors` = ['g', 'red', [.23, .34, .35], '#ff5500'] is\n",
      "            possible.\n",
      "    state_labels : list of strings, optional, default is 'auto'\n",
      "        A list with a label for each state, to be displayed at the center\n",
      "        of each node/state. If left to 'auto', the labels are automatically set to the state\n",
      "        indices.\n",
      "    minflux : float, optional, default=1e-6\n",
      "        The minimal flux (p_i * p_ij) for a transition to be drawn\n",
      "    arrow_scale : float, optional, default=1.0\n",
      "        Relative arrow scale. Set to a value different from 1 to increase\n",
      "        or decrease the arrow width.\n",
      "    arrow_curvature : float, optional, default=1.0\n",
      "        Relative arrow curvature. Set to a value different from 1 to make\n",
      "        arrows more or less curved.\n",
      "    arrow_labels : 'weights', None or a ndarray(n,n) with label strings. Optional, default='weights'\n",
      "        Strings to be placed upon arrows. If None, no labels will be used.\n",
      "        If 'weights', the elements of P will be used. If a matrix of strings is\n",
      "        given by the user these will be used.\n",
      "    arrow_label_format : str, optional, default='%10.2f'\n",
      "        The numeric format to print the arrow labels\n",
      "    max_width = 12\n",
      "        The maximum figure width\n",
      "    max_height = 12\n",
      "        The maximum figure height\n",
      "    figpadding = 0.2\n",
      "        The relative figure size used for the padding\n",
      "    show_frame: boolean (default=False)\n",
      "        Draw a frame around the network.\n",
      "    ax : matplotlib Axes object, optional, default=None\n",
      "        The axes to plot to. When set to None a new Axes (and Figure) object will be used.\n",
      "    textkwargs : optional argument for the text of the state and arrow labels.\n",
      "        See http://matplotlib.org/api/text_api.html#matplotlib.text.Text for more info. The\n",
      "        parameter 'size' refers to the size of the state and arrow labels and overwrites the\n",
      "        matplotlib default. The parameter 'arrow_label_size' is only used for the arrow labels;\n",
      "        please note that 'arrow_label_size' is not part of matplotlib.text.Text's set of parameters\n",
      "        and will raise an exception when passed to matplotlib.text.Text directly.\n",
      "    \n",
      "    Returns\n",
      "    -------\n",
      "    fig, pos : matplotlib.Figure, ndarray(n,2)\n",
      "    a Figure object containing the plot and the positions of states.\n",
      "    Can be used later to plot a different network representation (e.g. the flux)\n",
      "    \n",
      "    Examples\n",
      "    --------\n",
      "    >>> import numpy as np\n",
      "    >>> P = np.array([[0.8,  0.15, 0.05,  0.0,  0.0],\n",
      "    ...              [0.1,  0.75, 0.05, 0.05, 0.05],\n",
      "    ...              [0.05,  0.1,  0.8,  0.0,  0.05],\n",
      "    ...              [0.0,  0.2, 0.0,  0.8,  0.0],\n",
      "    ...              [0.0,  0.02, 0.02, 0.0,  0.96]])\n",
      "    >>> plot_markov_model(P) # doctest:+ELLIPSIS\n",
      "    (<...Figure..., array...)\n",
      "\n"
     ]
    }
   ],
   "source": [
    "help(mplt.plot_markov_model)"
   ]
  },
  {
   "cell_type": "code",
   "execution_count": 125,
   "metadata": {
    "ExecuteTime": {
     "end_time": "2018-11-18T06:54:54.309113Z",
     "start_time": "2018-11-18T06:54:53.472881Z"
    }
   },
   "outputs": [
    {
     "name": "stderr",
     "output_type": "stream",
     "text": [
      "/home/denglei/anaconda2/envs/python36/lib/python3.6/site-packages/pyemma/plots/networks.py:183: RuntimeWarning: divide by zero encountered in double_scalars\n",
      "  if (Dx / max_width > Dy / max_height):\n"
     ]
    },
    {
     "name": "stdout",
     "output_type": "stream",
     "text": [
      "\n"
     ]
    },
    {
     "data": {
      "image/png": "[encoded data removed]",
      "text/plain": [
       "<matplotlib.figure.Figure at 0x7fe3cc3ae9e8>"
      ]
     },
     "metadata": {},
     "output_type": "display_data"
    }
   ],
   "source": [
    "#pos=np.array([[-3, -4], [0, -5], [-4.2, 0.5], [0, 0]])\n",
    "#state_labels = ['A','B','C','D','E']\n",
    "state_labels = ['C','B','E','A','D']\n",
    "pos=np.array([[4,4],[0,0],[6,4],[4,0],[8,0]])\n",
    "#pos=np.array([[0, 4],[8,4],[6, 0],[4,4],[2, 0]])\n",
    "\n",
    "figure(figsize=(8,5))\n",
    "ax = gca()\n",
    "mplt.plot_markov_model(hmm,minflux=4e-6,pos=pos,state_labels=state_labels,arrow_curvature=0.5,arrow_labels=None,\n",
    "                       max_width=1, max_height=0,ax=ax,state_colors='#D3D3D3',state_scale=3,)\n",
    "print()\n",
    "#savefig('fig3.png', format='png',dpi=720,bbox_inches=\"tight\")"
   ]
  },
  {
   "cell_type": "code",
   "execution_count": 105,
   "metadata": {
    "ExecuteTime": {
     "end_time": "2018-11-18T04:58:37.328023Z",
     "start_time": "2018-11-18T04:58:36.704544Z"
    }
   },
   "outputs": [],
   "source": [
    "sample = hmm.sample_by_observation_probabilities(5)"
   ]
  },
  {
   "cell_type": "code",
   "execution_count": 106,
   "metadata": {
    "ExecuteTime": {
     "end_time": "2018-11-18T04:58:38.931214Z",
     "start_time": "2018-11-18T04:58:38.923049Z"
    }
   },
   "outputs": [
    {
     "data": {
      "text/plain": [
       "array([ array([[   7, 6529],\n",
       "       [   6, 2116],\n",
       "       [  17,  538],\n",
       "       [   5, 9248],\n",
       "       [   7, 3137]]),\n",
       "       array([[  12, 6419],\n",
       "       [  18, 1313],\n",
       "       [  18, 2033],\n",
       "       [   4, 9395],\n",
       "       [  14, 2324]]),\n",
       "       array([[  10, 9248],\n",
       "       [  10, 3759],\n",
       "       [  10, 5568],\n",
       "       [  10, 6786],\n",
       "       [  10, 4035]]),\n",
       "       array([[   9, 4919],\n",
       "       [   5, 5173],\n",
       "       [   5, 5192],\n",
       "       [   9, 3322],\n",
       "       [  14, 8404]]),\n",
       "       array([[  13, 7214],\n",
       "       [  13, 1784],\n",
       "       [  11, 3629],\n",
       "       [  14, 7750],\n",
       "       [  11, 9899]])], dtype=object)"
      ]
     },
     "execution_count": 106,
     "metadata": {},
     "output_type": "execute_result"
    }
   ],
   "source": [
    "sample"
   ]
  },
  {
   "cell_type": "code",
   "execution_count": null,
   "metadata": {
    "ExecuteTime": {
     "end_time": "2018-11-12T06:47:22.773057Z",
     "start_time": "2018-11-12T06:47:12.925572Z"
    }
   },
   "outputs": [],
   "source": [
    "#pos=np.array([[-3, -4], [0, -5], [-4.2, 0.5], [0, 0]])\n",
    "#state_labels = ['A','B','C','D','E']\n",
    "state_labels = ['A','E','D','C','B']\n",
    "#pos=np.array([[0, 4], [2, 0], [4,4], [6, 0],[8,4]])\n",
    "pos=np.array([[0, 4],[8,4],[6, 0],[4,4],[2, 0]])\n",
    "figure(figsize=(8,4))\n",
    "ax = gca()\n",
    "mplt.plot_markov_model(hmm,pos=pos, minflux=4e-4,state_labels=state_labels,arrow_label_format='%.3f',max_width=10, max_height=10,ax=ax,\n",
    "                       state_colors='#D3D3D3',state_scale=1)\n",
    "savefig('fig3.png', format='png',dpi=720,bbox_inches=\"tight\")"
   ]
  },
  {
   "cell_type": "code",
   "execution_count": null,
   "metadata": {
    "ExecuteTime": {
     "end_time": "2018-11-16T05:11:13.378455Z",
     "start_time": "2018-11-16T05:11:13.370498Z"
    }
   },
   "outputs": [],
   "source": [
    "hmm.sample_by_observation_probabilities(10)"
   ]
  },
  {
   "cell_type": "code",
   "execution_count": null,
   "metadata": {
    "ExecuteTime": {
     "end_time": "2018-10-16T08:51:12.639429Z",
     "start_time": "2018-10-16T08:50:55.794234Z"
    }
   },
   "outputs": [],
   "source": [
    "hmm_ = M.hmm(5)"
   ]
  },
  {
   "cell_type": "code",
   "execution_count": null,
   "metadata": {
    "ExecuteTime": {
     "end_time": "2018-10-16T08:51:23.397756Z",
     "start_time": "2018-10-16T08:51:14.007142Z"
    }
   },
   "outputs": [],
   "source": [
    "pos=np.array([[0, 4], [2, 0], [4,4], [6, 0],[8,4]])\n",
    "figure(figsize=(8,4))\n",
    "ax = gca()\n",
    "mplt.plot_markov_model(hmm_, pos=pos,minflux=4e-4, arrow_label_format='%.3f',max_width=10, max_height=10,ax=ax,\n",
    "                       state_colors='#D3D3D3',state_scale=0.5)\n",
    "#savefig('fig3.png', format='png',dpi=720,bbox_inches=\"tight\")"
   ]
  },
  {
   "cell_type": "code",
   "execution_count": null,
   "metadata": {
    "ExecuteTime": {
     "end_time": "2018-10-16T09:57:13.467644Z",
     "start_time": "2018-10-16T09:57:13.460835Z"
    }
   },
   "outputs": [],
   "source": [
    "hmm.metastable_sets"
   ]
  },
  {
   "cell_type": "code",
   "execution_count": null,
   "metadata": {
    "ExecuteTime": {
     "end_time": "2018-10-16T09:57:02.840374Z",
     "start_time": "2018-10-16T09:57:02.837514Z"
    }
   },
   "outputs": [],
   "source": [
    "num = 0\n",
    "for i in t:\n",
    "    num += len(i)"
   ]
  },
  {
   "cell_type": "code",
   "execution_count": null,
   "metadata": {
    "ExecuteTime": {
     "end_time": "2018-10-16T09:57:04.466127Z",
     "start_time": "2018-10-16T09:57:04.462426Z"
    }
   },
   "outputs": [],
   "source": [
    "num"
   ]
  },
  {
   "cell_type": "code",
   "execution_count": null,
   "metadata": {
    "ExecuteTime": {
     "end_time": "2018-11-15T11:39:31.011136Z",
     "start_time": "2018-11-15T11:39:31.004944Z"
    }
   },
   "outputs": [],
   "source": [
    "def func(seq):\n",
    "    none_polar = '''GAVLMI '''\n",
    "    pos_elec = '''KRH'''\n",
    "    neg_elec = '''DE'''\n",
    "    none_elec = '''STCPNQ'''\n",
    "    polar = pos_elec+neg_elec+none_elec \n",
    "    aromatic = '''FYW'''\n",
    "    count = {'none_polar':0,'pos_elec':0,'neg_elec':0,'none_elec':0,'polar':0,'aromatic':0}\n",
    "    for s in seq:\n",
    "        if s in none_polar:\n",
    "            count['none_polar'] += 1\n",
    "        if s in pos_elec:\n",
    "            count['pos_elec'] += 1\n",
    "        if s in neg_elec:\n",
    "            count['neg_elec'] += 1\n",
    "        if s in none_elec:\n",
    "            count['none_elec'] += 1\n",
    "        if s in polar:\n",
    "            count['polar'] += 1\n",
    "        if s in aromatic:\n",
    "            count['aromatic'] +=1\n",
    "    return count\n",
    "seq1 = '''IVGGYTCGANTVPYQVSLNSGYHFCGGSLINSQWVVSAAHCYKSGIQVRLGEDNINVVEGNEQFISASKS\n",
    "IVHPSYNSNTLNNDIMLIKLKSAASLNSRVASISLPTSCASAGTQCLISGWGNTKSSGTSYPDVLKCLKA\n",
    "PILSDSSCKSAYPGQITSNMFCAGYLEGGKDSCQGDSGGPVVCSGKLQGIVSWGSGCAQKNKPGVYTKVC\n",
    "NYVSWIKQTIASN\n",
    "'''\n",
    "seq2 = '''IVGGYECKPYSQPHQVSLNSGYHFCGGSLVNENWVVSAAHCYKSRVEVRLGEHNIKVTEGSEQFISSSRV\n",
    "IRHPNYSSYNIDNDIMLIKLSKPATLNTYVQPVALPTSCAPAGTMCTVSGWGNTMSSTADSNKLQCLNIP\n",
    "ILSYSDCNNSYPGMITNAMFCAGYLEGGKDSCQGDSGGPVVCNGELQGVVSWGYGCAEPGNPGVYAKVCI\n",
    "FNDWLTSTMASY'''\n",
    "_3btk = func(seq1)\n",
    "_1bzx = func(seq2)"
   ]
  }
 ],
 "metadata": {
  "kernelspec": {
   "display_name": "Python 3",
   "language": "python",
   "name": "python3"
  },
  "language_info": {
   "codemirror_mode": {
    "name": "ipython",
    "version": 3
   },
   "file_extension": ".py",
   "mimetype": "text/x-python",
   "name": "python",
   "nbconvert_exporter": "python",
   "pygments_lexer": "ipython3",
   "version": "3.6.2"
  },
  "varInspector": {
   "cols": {
    "lenName": 16,
    "lenType": 16,
    "lenVar": 40
   },
   "kernels_config": {
    "python": {
     "delete_cmd_postfix": "",
     "delete_cmd_prefix": "del ",
     "library": "var_list.py",
     "varRefreshCmd": "print(var_dic_list())"
    },
    "r": {
     "delete_cmd_postfix": ") ",
     "delete_cmd_prefix": "rm(",
     "library": "var_list.r",
     "varRefreshCmd": "cat(var_dic_list()) "
    }
   },
   "position": {
    "height": "313px",
    "left": "995px",
    "right": "26px",
    "top": "120px",
    "width": "344px"
   },
   "types_to_exclude": [
    "module",
    "function",
    "builtin_function_or_method",
    "instance",
    "_Feature"
   ],
   "window_display": false
  }
 },
 "nbformat": 4,
 "nbformat_minor": 2
}
